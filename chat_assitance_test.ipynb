{
 "cells": [
  {
   "cell_type": "code",
   "execution_count": 1,
   "id": "9256d7ca-0053-423c-9f04-f8c521b4a2e1",
   "metadata": {},
   "outputs": [],
   "source": [
    "# !pip install sqlalchemy"
   ]
  },
  {
   "cell_type": "code",
   "execution_count": 1,
   "id": "7e898bbe-65d9-40b3-821b-192a0b8e02a4",
   "metadata": {},
   "outputs": [],
   "source": [
    "from langchain.llms import GooglePalm\n",
    "from dotenv import load_dotenv\n",
    "import os\n",
    "from langchain_google_genai import GoogleGenerativeAI\n",
    "from langchain.sql_database import SQLDatabase\n",
    "from langchain.chains import create_sql_query_chain"
   ]
  },
  {
   "cell_type": "code",
   "execution_count": 2,
   "id": "8417a8d1-84de-451e-a480-b5556a21c865",
   "metadata": {},
   "outputs": [
    {
     "name": "stdout",
     "output_type": "stream",
     "text": [
      "sqlite:///C:/Users/Omkar/OneDrive/Desktop/SQL_chat_assistant/demodb.db\n"
     ]
    }
   ],
   "source": [
    "\n",
    "\n",
    "# Load environment variables from .env file\n",
    "load_dotenv()\n",
    "\n",
    "# Fetch API key from environment variable\n",
    "google_api = os.getenv(\"google\")\n",
    "# Initialize the LLM\n",
    "llm = GoogleGenerativeAI(model=\"gemini-1.5-pro\", google_api_key=google_api)\n",
    "# llm = GoogleGenerativeAI(model=\"gemini-pro\", google_api_key=palm)\n",
    "\n",
    "db_path = \"C:/Users/Omkar/OneDrive/Desktop/SQL_chat_assistant/demodb.db\"\n",
    "db_uri = f\"sqlite:///{db_path}\"\n",
    "\n",
    "print(db_uri)"
   ]
  },
  {
   "cell_type": "code",
   "execution_count": 3,
   "id": "63b17786-ac00-420c-aa3d-ab13328d9e62",
   "metadata": {},
   "outputs": [
    {
     "name": "stdout",
     "output_type": "stream",
     "text": [
      "\n",
      "CREATE TABLE \"Departments\" (\n",
      "\t\"ID\" INTEGER, \n",
      "\t\"Name\" TEXT NOT NULL, \n",
      "\t\"Manager\" TEXT NOT NULL, \n",
      "\tPRIMARY KEY (\"ID\")\n",
      ")\n",
      "\n",
      "/*\n",
      "3 rows from Departments table:\n",
      "ID\tName\tManager\n",
      "1\tSales\tAlice\n",
      "2\tEngineering\tBob\n",
      "3\tMarketing\tCharlie\n",
      "*/\n",
      "\n",
      "\n",
      "CREATE TABLE \"Employees\" (\n",
      "\t\"ID\" INTEGER, \n",
      "\t\"Name\" TEXT NOT NULL, \n",
      "\t\"Department\" TEXT NOT NULL, \n",
      "\t\"Salary\" INTEGER NOT NULL, \n",
      "\t\"Hire_Date\" TEXT NOT NULL, \n",
      "\tPRIMARY KEY (\"ID\"), \n",
      "\tFOREIGN KEY(\"Department\") REFERENCES \"Departments\" (\"Name\")\n",
      ")\n",
      "\n",
      "/*\n",
      "3 rows from Employees table:\n",
      "ID\tName\tDepartment\tSalary\tHire_Date\n",
      "1\tAlice\tSales\t50000\t2021-01-15\n",
      "2\tBob\tEngineering\t70000\t2020-06-10\n",
      "3\tCharlie\tMarketing\t60000\t2022-03-20\n",
      "*/\n"
     ]
    }
   ],
   "source": [
    "# Create SQLDatabase instance with sample rows\n",
    "db = SQLDatabase.from_uri(\n",
    "    db_uri,\n",
    "    include_tables=['Employees', 'Departments'],  # Include your table names\n",
    "    sample_rows_in_table_info=3\n",
    ")\n",
    "\n",
    "# Print table info (will show schema + sample rows similar to your example)\n",
    "print(db.table_info)"
   ]
  },
  {
   "cell_type": "code",
   "execution_count": 6,
   "id": "ee43275c-f2d3-4f0b-b61d-30f0cbc125fc",
   "metadata": {},
   "outputs": [],
   "source": [
    "def execute_query(question):\n",
    "    try:\n",
    "        # Generate SQL query\n",
    "        query = chain.invoke({\"question\": question})\n",
    "        print(\"\\nRaw Generated Query:\")\n",
    "        print(query)\n",
    "\n",
    "        # Clean the query\n",
    "        cleaned_query = query.split(\"SQLQuery:\")[1].strip()\n",
    "        print(\"\\nCleaned SQL Query:\")\n",
    "        print(cleaned_query)\n",
    "\n",
    "        # Normalize the query for validation\n",
    "        normalized_query = cleaned_query.strip().lower()\n",
    "\n",
    "        # Check if the query is a SELECT statement or starts with a CTE (WITH)\n",
    "        if not (\n",
    "            normalized_query.startswith(\"select\") or\n",
    "            normalized_query.startswith(\"with\")\n",
    "        ):\n",
    "            return \"Only SELECT queries (including CTEs) are allowed. This query cannot be executed.\"\n",
    "\n",
    "\n",
    "        # Execute the query\n",
    "        result = db.run(cleaned_query)\n",
    "        \n",
    "        # Handle empty results\n",
    "        if not result:\n",
    "            return \"No results found for your query.\"\n",
    "\n",
    "        # Format the result using the LLM\n",
    "        finalresult = llm(\"Frame a simple short sentence with the following answer: \" + result + \" with reference to the following question: \" + question)\n",
    "        return finalresult\n",
    "\n",
    "    except Exception as e:\n",
    "        # Handle invalid queries or execution errors\n",
    "        error_message = str(e)\n",
    "        if \"no such table\" in error_message.lower():\n",
    "            return \"Error: The specified table does not exist.\"\n",
    "        elif \"no such column\" in error_message.lower():\n",
    "            return \"Error: The specified column does not exist.\"\n",
    "        elif \"syntax error\" in error_message.lower():\n",
    "            return \"Error: The generated SQL query is invalid.\"\n",
    "        else:\n",
    "            return f\"An error occurred: {error_message}\"\n"
   ]
  },
  {
   "cell_type": "code",
   "execution_count": 7,
   "id": "07389966-aabb-43c2-bc4b-567690c5bd64",
   "metadata": {},
   "outputs": [
    {
     "name": "stdout",
     "output_type": "stream",
     "text": [
      "\n",
      "Raw Generated Query:\n",
      "Question: empoyee who hired before 1 jan 2020\n",
      "SQLQuery: SELECT \"Name\" FROM \"Employees\" WHERE \"Hire_Date\" < '2020-01-01' LIMIT 5\n",
      "\n",
      "Cleaned SQL Query:\n",
      "SELECT \"Name\" FROM \"Employees\" WHERE \"Hire_Date\" < '2020-01-01' LIMIT 5\n"
     ]
    },
    {
     "name": "stderr",
     "output_type": "stream",
     "text": [
      "C:\\Users\\Omkar\\AppData\\Local\\Temp\\ipykernel_20840\\239151751.py:32: LangChainDeprecationWarning: The method `BaseLLM.__call__` was deprecated in langchain-core 0.1.7 and will be removed in 1.0. Use :meth:`~invoke` instead.\n",
      "  finalresult = llm(\"Frame a simple short sentence with the following answer: \" + result + \" with reference to the following question: \" + question)\n"
     ]
    },
    {
     "name": "stdout",
     "output_type": "stream",
     "text": [
      "\n",
      "Query Results:\n",
      "David, Eve, Hank, Ivy, and Leo were hired before January 1, 2020.\n",
      "\n"
     ]
    }
   ],
   "source": [
    "# Example usage\n",
    "question = \"empoyee who hired before 1 jan 2020\"\n",
    "result = execute_query(question)\n",
    "print(\"\\nQuery Results:\")\n",
    "print(result)"
   ]
  },
  {
   "cell_type": "code",
   "execution_count": 9,
   "id": "f6e61b14-623d-4ace-b798-e4662a92dbb1",
   "metadata": {},
   "outputs": [
    {
     "name": "stdout",
     "output_type": "stream",
     "text": [
      "\n",
      "Raw Generated Query:\n",
      "Question: empoyee who hired before 1 jan 2020\n",
      "SQLQuery: SELECT \"Name\" FROM \"Employees\" WHERE \"Hire_Date\" < '2020-01-01' LIMIT 5\n",
      "\n",
      "Cleaned SQL Query:\n",
      "SELECT \"Name\" FROM \"Employees\" WHERE \"Hire_Date\" < '2020-01-01' LIMIT 5\n",
      "\n",
      "Query Results:\n",
      "SELECT \"Name\" FROM \"Employees\" WHERE \"Hire_Date\" < '2020-01-01' LIMIT 5\n"
     ]
    }
   ],
   "source": [
    "#function only to generate Query\n",
    "def Generate_query(question):\n",
    "    try:\n",
    "        # Generate SQL query\n",
    "        query = chain.invoke({\"question\": question})\n",
    "        print(\"\\nRaw Generated Query:\")\n",
    "        print(query)\n",
    "\n",
    "        # Clean the query\n",
    "        cleaned_query = query.split(\"SQLQuery:\")[1].strip()\n",
    "        print(\"\\nCleaned SQL Query:\")\n",
    "        print(cleaned_query)\n",
    "\n",
    "        # Normalize the query for validation\n",
    "        normalized_query = cleaned_query.strip().lower()\n",
    "\n",
    "        # Check if the query is a SELECT statement or starts with a CTE (WITH)\n",
    "        if not (\n",
    "            normalized_query.startswith(\"select\") or\n",
    "            normalized_query.startswith(\"with\")\n",
    "        ):\n",
    "            return \"Only SELECT queries (including CTEs) are allowed. This query cannot be executed.\"\n",
    "\n",
    "\n",
    "        # # Execute the query\n",
    "        # result = db.run(cleaned_query)\n",
    "        \n",
    "        # # Handle empty results\n",
    "        # if not result:\n",
    "        #     return \"No results found for your query.\"\n",
    "\n",
    "        # # Format the result using the LLM\n",
    "        # finalresult = llm(\"Frame a simple short sentence with the following answer: \" + result + \" with reference to the following question: \" + question)\n",
    "        return cleaned_query\n",
    "\n",
    "    except Exception as e:\n",
    "        # Handle invalid queries or execution errors\n",
    "        error_message = str(e)\n",
    "        if \"no such table\" in error_message.lower():\n",
    "            return \"Error: The specified table does not exist.\"\n",
    "        elif \"no such column\" in error_message.lower():\n",
    "            return \"Error: The specified column does not exist.\"\n",
    "        elif \"syntax error\" in error_message.lower():\n",
    "            return \"Error: The generated SQL query is invalid.\"\n",
    "        else:\n",
    "            return f\"An error occurred: {error_message}\"\n",
    "\n",
    "\n",
    "# Example usage\n",
    "question = \"empoyee who hired before 1 jan 2020\"\n",
    "result = Generate_query(question)\n",
    "print(\"\\nQuery Results:\")\n",
    "print(result)\n"
   ]
  },
  {
   "cell_type": "code",
   "execution_count": 11,
   "id": "eaf9a6ff-dda6-48dd-a45f-c1fe12d2b78c",
   "metadata": {},
   "outputs": [
    {
     "name": "stdout",
     "output_type": "stream",
     "text": [
      "Tables in the database:\n",
      "[('Rachel',)]\n"
     ]
    }
   ],
   "source": [
    "# Example: Check if the table \"Employees\" exists\n",
    "tables = db.run(\"SELECT Name FROM Employees ORDER BY Salary DESC LIMIT 1\")\n",
    "print(\"Tables in the database:\")\n",
    "print(tables)"
   ]
  },
  {
   "cell_type": "code",
   "execution_count": 12,
   "id": "65b0406c-7938-48d4-b39f-5fe6f1037522",
   "metadata": {},
   "outputs": [
    {
     "name": "stdout",
     "output_type": "stream",
     "text": [
      "Initializing Chatbot...\n",
      "\n",
      "Say 'exit' to quit the chatbot.\n"
     ]
    },
    {
     "name": "stdout",
     "output_type": "stream",
     "text": [
      "You:  empolyee with max salary\n"
     ]
    },
    {
     "name": "stdout",
     "output_type": "stream",
     "text": [
      "\n",
      "Raw Generated Query:\n",
      "Question: empolyee with max salary\n",
      "SQLQuery: SELECT \"Name\" FROM \"Employees\" ORDER BY \"Salary\" DESC LIMIT 1\n",
      "\n",
      "Cleaned SQL Query:\n",
      "SELECT \"Name\" FROM \"Employees\" ORDER BY \"Salary\" DESC LIMIT 1\n",
      "Chatbot: Rachel has the highest salary.\n",
      "\n",
      "\n",
      "Say 'exit' to quit the chatbot.\n"
     ]
    },
    {
     "name": "stdout",
     "output_type": "stream",
     "text": [
      "You:  empolyee who works in IT department\n"
     ]
    },
    {
     "name": "stdout",
     "output_type": "stream",
     "text": [
      "\n",
      "Raw Generated Query:\n",
      "Question: empolyee who works in IT department\n",
      "SQLQuery: SELECT \"Name\" FROM \"Employees\" WHERE \"Department\" = 'IT' LIMIT 5\n",
      "\n",
      "Cleaned SQL Query:\n",
      "SELECT \"Name\" FROM \"Employees\" WHERE \"Department\" = 'IT' LIMIT 5\n"
     ]
    },
    {
     "name": "stderr",
     "output_type": "stream",
     "text": [
      "Retrying langchain_google_genai.llms._completion_with_retry.<locals>._completion_with_retry in 4.0 seconds as it raised ResourceExhausted: 429 You exceeded your current quota, please check your plan and billing details. For more information on this error, head to: https://ai.google.dev/gemini-api/docs/rate-limits. [violations {\n",
      "}\n",
      ", links {\n",
      "  description: \"Learn more about Gemini API quotas\"\n",
      "  url: \"https://ai.google.dev/gemini-api/docs/rate-limits\"\n",
      "}\n",
      ", retry_delay {\n",
      "  seconds: 11\n",
      "}\n",
      "].\n"
     ]
    },
    {
     "name": "stdout",
     "output_type": "stream",
     "text": [
      "Chatbot: Frank works in IT.\n",
      "\n",
      "\n",
      "Say 'exit' to quit the chatbot.\n"
     ]
    },
    {
     "name": "stdout",
     "output_type": "stream",
     "text": [
      "You:  exit\n"
     ]
    },
    {
     "name": "stdout",
     "output_type": "stream",
     "text": [
      "Chatbot: Take care of yourself, goodbye!\n"
     ]
    }
   ],
   "source": [
    "def main():\n",
    "    print(\"Initializing Chatbot...\")\n",
    "\n",
    "    while True:\n",
    "        print(\"\\nSay 'exit' to quit the chatbot.\")\n",
    "        \n",
    "        question = input(\"You: \")\n",
    "        if question is None:\n",
    "            continue\n",
    "        if question.lower() == \"exit\":\n",
    "            print(\"Chatbot: Take care of yourself, goodbye!\")\n",
    "            break\n",
    "        result = execute_query(question)\n",
    "        print(f\"Chatbot: {result}\")\n",
    "        \n",
    "\n",
    "if __name__ == \"__main__\":\n",
    "    main()"
   ]
  },
  {
   "cell_type": "markdown",
   "id": "29c44d33-15d1-410e-a15a-3ae971e5f84f",
   "metadata": {},
   "source": [
    "### different langchain"
   ]
  }
 ],
 "metadata": {
  "kernelspec": {
   "display_name": "Python 3 (ipykernel)",
   "language": "python",
   "name": "python3"
  },
  "language_info": {
   "codemirror_mode": {
    "name": "ipython",
    "version": 3
   },
   "file_extension": ".py",
   "mimetype": "text/x-python",
   "name": "python",
   "nbconvert_exporter": "python",
   "pygments_lexer": "ipython3",
   "version": "3.12.3"
  }
 },
 "nbformat": 4,
 "nbformat_minor": 5
}
