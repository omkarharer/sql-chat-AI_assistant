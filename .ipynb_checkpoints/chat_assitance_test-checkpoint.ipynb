{
 "cells": [
  {
   "cell_type": "code",
   "execution_count": 1,
   "id": "9256d7ca-0053-423c-9f04-f8c521b4a2e1",
   "metadata": {},
   "outputs": [],
   "source": [
    "# !pip install sqlalchemy"
   ]
  },
  {
   "cell_type": "code",
   "execution_count": 2,
   "id": "7e898bbe-65d9-40b3-821b-192a0b8e02a4",
   "metadata": {},
   "outputs": [],
   "source": [
    "from langchain.llms import GooglePalm\n",
    "from secret import palm\n",
    "from langchain_google_genai import GoogleGenerativeAI\n",
    "from langchain.sql_database import SQLDatabase\n",
    "from langchain.chains import create_sql_query_chain"
   ]
  },
  {
   "cell_type": "code",
   "execution_count": 5,
   "id": "8417a8d1-84de-451e-a480-b5556a21c865",
   "metadata": {},
   "outputs": [
    {
     "name": "stdout",
     "output_type": "stream",
     "text": [
      "sqlite:///C:/Users/Omkar/OneDrive/Desktop/SQL_chat_assistant/demodb.db\n"
     ]
    }
   ],
   "source": [
    "\n",
    "llm = GoogleGenerativeAI(model=\"gemini-pro\", google_api_key=palm)\n",
    "\n",
    "db_path = \"C:/Users/Omkar/OneDrive/Desktop/SQL_chat_assistant/demodb.db\"\n",
    "db_uri = f\"sqlite:///{db_path}\"\n",
    "\n",
    "print(db_uri)"
   ]
  },
  {
   "cell_type": "code",
   "execution_count": 6,
   "id": "63b17786-ac00-420c-aa3d-ab13328d9e62",
   "metadata": {},
   "outputs": [
    {
     "name": "stdout",
     "output_type": "stream",
     "text": [
      "\n",
      "CREATE TABLE \"Departments\" (\n",
      "\t\"ID\" INTEGER, \n",
      "\t\"Name\" TEXT NOT NULL, \n",
      "\t\"Manager\" TEXT NOT NULL, \n",
      "\tPRIMARY KEY (\"ID\")\n",
      ")\n",
      "\n",
      "/*\n",
      "3 rows from Departments table:\n",
      "ID\tName\tManager\n",
      "1\tSales\tAlice\n",
      "2\tEngineering\tBob\n",
      "3\tMarketing\tCharlie\n",
      "*/\n",
      "\n",
      "\n",
      "CREATE TABLE \"Employees\" (\n",
      "\t\"ID\" INTEGER, \n",
      "\t\"Name\" TEXT NOT NULL, \n",
      "\t\"Department\" TEXT NOT NULL, \n",
      "\t\"Salary\" INTEGER NOT NULL, \n",
      "\t\"Hire_Date\" TEXT NOT NULL, \n",
      "\tPRIMARY KEY (\"ID\"), \n",
      "\tFOREIGN KEY(\"Department\") REFERENCES \"Departments\" (\"Name\")\n",
      ")\n",
      "\n",
      "/*\n",
      "3 rows from Employees table:\n",
      "ID\tName\tDepartment\tSalary\tHire_Date\n",
      "1\tAlice\tSales\t50000\t2021-01-15\n",
      "2\tBob\tEngineering\t70000\t2020-06-10\n",
      "3\tCharlie\tMarketing\t60000\t2022-03-20\n",
      "*/\n"
     ]
    }
   ],
   "source": [
    "# Create SQLDatabase instance with sample rows\n",
    "db = SQLDatabase.from_uri(\n",
    "    db_uri,\n",
    "    include_tables=['Employees', 'Departments'],  # Include your table names\n",
    "    sample_rows_in_table_info=3\n",
    ")\n",
    "\n",
    "# Print table info (will show schema + sample rows similar to your example)\n",
    "print(db.table_info)"
   ]
  },
  {
   "cell_type": "code",
   "execution_count": 12,
   "id": "1a3fc220-d46f-4051-b999-97cb39212bf6",
   "metadata": {},
   "outputs": [
    {
     "name": "stdout",
     "output_type": "stream",
     "text": [
      "\n",
      "Generated SQL Query:\n",
      "```sql\n",
      "SELECT \n",
      "    \"Name\"\n",
      "FROM \n",
      "    \"Employees\"\n",
      "WHERE \n",
      "    \"Department\" = 'IT';\n",
      "```\n",
      "\n",
      "Generated cleaned SQL Query:\n",
      "SELECT \n",
      "    \"Name\"\n",
      "FROM \n",
      "    \"Employees\"\n",
      "WHERE \n",
      "    \"Department\" = 'IT';\n"
     ]
    }
   ],
   "source": [
    "# Create SQL query chain\n",
    "chain = create_sql_query_chain(llm, db)\n",
    "\n",
    "# Example usage\n",
    "question = \"Show me all employees in the IT department\"\n",
    "query = chain.invoke({\"question\": question})\n",
    "\n",
    "print(\"\\nGenerated SQL Query:\")\n",
    "print(query)\n",
    "\n",
    "cleaned_query = query.strip('```sql\\n').strip('\\n```')\n",
    "print(\"\\nGenerated cleaned SQL Query:\")\n",
    "print(cleaned_query)"
   ]
  },
  {
   "cell_type": "code",
   "execution_count": 13,
   "id": "96b912b5-c65c-4cca-9cb9-a09e568353da",
   "metadata": {},
   "outputs": [
    {
     "name": "stdout",
     "output_type": "stream",
     "text": [
      "\n",
      "Query Results:\n",
      "[('Frank',)]\n"
     ]
    }
   ],
   "source": [
    "# Execute the query using the SQLDatabase instance\n",
    "result = db.run(cleaned_query)\n",
    "print(\"\\nQuery Results:\")\n",
    "print(result)"
   ]
  },
  {
   "cell_type": "code",
   "execution_count": 24,
   "id": "ca37f97a-ce87-42e6-b7f1-06610137c987",
   "metadata": {},
   "outputs": [],
   "source": [
    "# Create SQL query chain\n",
    "chain = create_sql_query_chain(llm, db)\n",
    "\n",
    "def execute_query(question):\n",
    "    try:\n",
    "        # Generate SQL query\n",
    "        query = chain.invoke({\"question\": question})\n",
    "        print(\"\\nGenerated SQL Query:\")\n",
    "        print(query)\n",
    "\n",
    "        # Clean the query (remove ```sql and extra spaces)\n",
    "        cleaned_query = query.strip('```sql\\n').strip('\\n```')\n",
    "        print(\"\\nCleaned SQL Query:\")\n",
    "        print(cleaned_query)\n",
    "\n",
    "        # Execute the query\n",
    "        result = db.run(cleaned_query)\n",
    "        \n",
    "        # Handle empty results\n",
    "        if not result:\n",
    "            return \"No results found for your query.\"\n",
    "\n",
    "        finalresult=llm(\"frame simple short sentance with following answer:-\" + result + \" with refernce to thi following question:-\" + question)\n",
    "        return finalresult\n",
    "\n",
    "    except Exception as e:\n",
    "        # Handle invalid queries or execution errors\n",
    "        error_message = str(e)\n",
    "        if \"no such table\" in error_message.lower():\n",
    "            return \"Error: The specified table does not exist.\"\n",
    "        elif \"no such column\" in error_message.lower():\n",
    "            return \"Error: The specified column does not exist.\"\n",
    "        elif \"syntax error\" in error_message.lower():\n",
    "            return \"Error: The generated SQL query is invalid.\"\n",
    "        else:\n",
    "            return f\"An error occurred: {error_message}\"\n"
   ]
  },
  {
   "cell_type": "code",
   "execution_count": 36,
   "id": "98cbfa1c-8141-41e9-a62b-7c622e1f4f29",
   "metadata": {},
   "outputs": [
    {
     "name": "stdout",
     "output_type": "stream",
     "text": [
      "\n",
      "Generated SQL Query:\n",
      "```sql\n",
      "SELECT \n",
      "  \"D\".\"Manager\"\n",
      "FROM \n",
      "  \"Departments\" AS \"D\"\n",
      "WHERE \n",
      "  \"D\".\"Name\" = 'Eng';\n",
      "```\n",
      "\n",
      "Cleaned SQL Query:\n",
      "SELECT \n",
      "  \"D\".\"Manager\"\n",
      "FROM \n",
      "  \"Departments\" AS \"D\"\n",
      "WHERE \n",
      "  \"D\".\"Name\" = 'Eng';\n",
      "\n",
      "Query Results:\n",
      "No results found for your query.\n"
     ]
    }
   ],
   "source": [
    "\n",
    "# Example usage\n",
    "question = \"Who is the manager of Eng?\"\n",
    "result = execute_query(question)\n",
    "print(\"\\nQuery Results:\")\n",
    "print(result)"
   ]
  },
  {
   "cell_type": "markdown",
   "id": "29c44d33-15d1-410e-a15a-3ae971e5f84f",
   "metadata": {},
   "source": [
    "### different langchain"
   ]
  },
  {
   "cell_type": "code",
   "execution_count": 11,
   "id": "9c09bd6b-2603-4d94-a80c-87244e2bcedf",
   "metadata": {},
   "outputs": [
    {
     "name": "stdout",
     "output_type": "stream",
     "text": [
      "\n",
      "\n",
      "\u001b[1m> Entering new SQLDatabaseChain chain...\u001b[0m\n",
      "Show me all employees in the IT departmentand dont give query in sql bash just simple query\n",
      "SQLQuery:\u001b[32;1m\u001b[1;3mSELECT \"Name\"\n",
      "FROM \"Employees\"\n",
      "WHERE \"Department\" = 'IT'\n",
      "LIMIT 5;\u001b[0m\n",
      "SQLResult: \u001b[33;1m\u001b[1;3m[('Frank',)]\u001b[0m\n",
      "Answer:\u001b[32;1m\u001b[1;3mFrank\u001b[0m\n",
      "\u001b[1m> Finished chain.\u001b[0m\n",
      "{'query': 'Show me all employees in the IT departmentand dont give query in sql bash just simple query', 'result': 'Frank'}\n"
     ]
    }
   ],
   "source": [
    "from langchain.utilities import SQLDatabase\n",
    "from langchain_experimental.sql import SQLDatabaseChain\n",
    "db_chain = SQLDatabaseChain.from_llm(llm, db, verbose=True)\n",
    "question = \"Show me all employees in the IT department\"\n",
    "qns1 = db_chain( question + \"and dont give query in sql bash just simple query\")\n",
    "print(qns1)"
   ]
  }
 ],
 "metadata": {
  "kernelspec": {
   "display_name": "Python 3 (ipykernel)",
   "language": "python",
   "name": "python3"
  },
  "language_info": {
   "codemirror_mode": {
    "name": "ipython",
    "version": 3
   },
   "file_extension": ".py",
   "mimetype": "text/x-python",
   "name": "python",
   "nbconvert_exporter": "python",
   "pygments_lexer": "ipython3",
   "version": "3.12.3"
  }
 },
 "nbformat": 4,
 "nbformat_minor": 5
}
